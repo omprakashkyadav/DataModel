{
 "cells": [
  {
   "cell_type": "markdown",
   "id": "78c63008",
   "metadata": {},
   "source": [
    "#### Creating a Table with PostgreSQL"
   ]
  },
  {
   "cell_type": "code",
   "execution_count": 32,
   "id": "220d74d9",
   "metadata": {},
   "outputs": [
    {
     "name": "stdout",
     "output_type": "stream",
     "text": [
      "Requirement already satisfied: psycopg2 in c:\\users\\omkumar\\anaconda3\\lib\\site-packages (2.9.5)\n",
      "Note: you may need to restart the kernel to use updated packages.\n"
     ]
    }
   ],
   "source": [
    "pip install psycopg2"
   ]
  },
  {
   "cell_type": "markdown",
   "id": "e9be1b2f",
   "metadata": {},
   "source": [
    "#### Import the Library"
   ]
  },
  {
   "cell_type": "code",
   "execution_count": 22,
   "id": "1137c130",
   "metadata": {},
   "outputs": [],
   "source": [
    "import psycopg2"
   ]
  },
  {
   "cell_type": "markdown",
   "id": "043af453",
   "metadata": {},
   "source": [
    "#### Create a Connection to the Database"
   ]
  },
  {
   "cell_type": "code",
   "execution_count": 33,
   "id": "65e15933",
   "metadata": {},
   "outputs": [],
   "source": [
    "try:\n",
    "    conn=psycopg2.connect(\"host=127.0.0.1 dbname=postgres user=postgres password=postgres\")\n",
    "except psycopg2.Error as e:\n",
    "    print(\"Error! Couldnot get cursor to the database \")\n",
    "    print(e)"
   ]
  },
  {
   "cell_type": "markdown",
   "id": "1ad68e13",
   "metadata": {},
   "source": [
    "#### Use the connection to get a cursor that can be used to execute query"
   ]
  },
  {
   "cell_type": "code",
   "execution_count": 34,
   "id": "9eafe837",
   "metadata": {},
   "outputs": [],
   "source": [
    "try:\n",
    "    cur = conn.cursor()\n",
    "except psycopg2.Error as e:\n",
    "    print(\"Error: Could not get cursor to the database\")\n",
    "    print(e)"
   ]
  },
  {
   "cell_type": "markdown",
   "id": "c0ff590f",
   "metadata": {},
   "source": [
    "#### Set automatic commit to be True so that each action is committed without having to call conn.commit() after each commit"
   ]
  },
  {
   "cell_type": "code",
   "execution_count": 35,
   "id": "0cb2c586",
   "metadata": {},
   "outputs": [],
   "source": [
    "conn.set_session(autocommit=True)"
   ]
  },
  {
   "cell_type": "markdown",
   "id": "2d6af338",
   "metadata": {},
   "source": [
    "#### Create a database to do the work"
   ]
  },
  {
   "cell_type": "code",
   "execution_count": 36,
   "id": "4c4a9cf8",
   "metadata": {
    "scrolled": false
   },
   "outputs": [
    {
     "name": "stdout",
     "output_type": "stream",
     "text": [
      "database \"myfirstdb\" already exists\n",
      "\n"
     ]
    }
   ],
   "source": [
    "try:\n",
    "    cur.execute(\"Create database myfirstdb\")\n",
    "except psycopg2.Error as e:\n",
    "    print(e)"
   ]
  },
  {
   "cell_type": "markdown",
   "id": "b027d548",
   "metadata": {},
   "source": [
    "#### Add the database name in the connect statement, Lets close our connection to the default database, reconnect to udacity database, and get a new cursor"
   ]
  },
  {
   "cell_type": "code",
   "execution_count": 37,
   "id": "72561912",
   "metadata": {},
   "outputs": [],
   "source": [
    "try:\n",
    "   conn.close()\n",
    "except psycopg2.Error as e:\n",
    "    print(e)\n",
    "    \n",
    "try:\n",
    "  conn = psycopg2.connect(\"host=127.0.0.1 dbname=myfirstdb user=postgres password=postgres\")\n",
    "except psycopg2.Error as e:\n",
    "    print(\"Error! could not make connection to the postgres\")\n",
    "    print(e)\n",
    "    \n",
    "try:\n",
    "    cur=conn.cursor()\n",
    "except psycopg2.Error as e:\n",
    "    print(\"Error! Could not get cursor to the database\")\n",
    "    print(e)\n",
    "    \n",
    "conn.set_session(autocommit=True)"
   ]
  },
  {
   "cell_type": "markdown",
   "id": "1fc0ff92",
   "metadata": {},
   "source": [
    "#### Create Table for students which includes below columns\n",
    "\n",
    "Student_id,\n",
    "name,\n",
    "age,\n",
    "gender,\n",
    "subject,\n",
    "marks"
   ]
  },
  {
   "cell_type": "code",
   "execution_count": 38,
   "id": "05076b47",
   "metadata": {},
   "outputs": [],
   "source": [
    "try:\n",
    "    cur.execute(\"CREATE TABLE IF NOT EXISTS students(student_id int, name varchar, age int, gender varchar, subject varchar, marks int);\")\n",
    "except psycopg2.Error as e:\n",
    "    print(\"Error: Issue Creating Table\")\n",
    "    print(e)"
   ]
  },
  {
   "cell_type": "markdown",
   "id": "2fca028d",
   "metadata": {},
   "source": [
    "### Insert the following two rows in the table\n",
    "First Row: 1, \"Raj\",23,\"Male\",\"Python\",85\\\n",
    "Second Row: 2,\"Priya\",22,\"Female\",\"Python\",86"
   ]
  },
  {
   "cell_type": "code",
   "execution_count": 39,
   "id": "06c58f1d",
   "metadata": {},
   "outputs": [],
   "source": [
    "try:\n",
    "    cur.execute(\"INSERT INTO students(student_id, name, age, gender, subject, marks)\\\n",
    "                VALUES(%s, %s, %s, %s, %s, %s)\",\n",
    "                (1, \"Raj\", 23, \"Male\", \"Python\", 85))\n",
    "except psycopg2.Error as e:\n",
    "    print(\"Error: Inserting Rows\")\n",
    "    print(e)\n",
    "    \n",
    "try:\n",
    "    cur.execute(\"INSERT INTO students(student_id, name, age, gender, subject, marks)\\\n",
    "               VALUES(%s, %s, %s, %s, %s, %s)\",\n",
    "               (2, \"Priya\",22,\"Female\",\"Python\",86))\n",
    "except psycopg2.Error as e:\n",
    "    print(\"Error: Inserting Rows\")\n",
    "    print(e)"
   ]
  },
  {
   "cell_type": "markdown",
   "id": "70c51393",
   "metadata": {},
   "source": [
    "#### Validate your data was inserted into the table"
   ]
  },
  {
   "cell_type": "code",
   "execution_count": 40,
   "id": "9fb30ae4",
   "metadata": {},
   "outputs": [
    {
     "name": "stdout",
     "output_type": "stream",
     "text": [
      "(1, 'Raj', 23, 'Male', 'Python', 85)\n",
      "(2, 'Priya', 22, 'Female', 'Python', 86)\n",
      "(1, 'Raj', 23, 'Male', 'Python', 85)\n",
      "(2, 'Priya', 22, 'Female', 'Python', 86)\n"
     ]
    }
   ],
   "source": [
    "try:\n",
    "    cur.execute(\"SELECT * FROM students;\")\n",
    "except psycopg2.Error as e:\n",
    "    print(\"Error: Select *\")\n",
    "    print(e)\n",
    "    \n",
    "row = cur.fetchone()\n",
    "while row:\n",
    "    print(row)\n",
    "    row = cur.fetchone()"
   ]
  },
  {
   "cell_type": "markdown",
   "id": "5ba2efb3",
   "metadata": {},
   "source": [
    "##### And finally close the cursor and connection"
   ]
  },
  {
   "cell_type": "code",
   "execution_count": 41,
   "id": "ffca2527",
   "metadata": {},
   "outputs": [],
   "source": [
    "cur.close()\n",
    "conn.close()"
   ]
  },
  {
   "cell_type": "code",
   "execution_count": null,
   "id": "b50e1425",
   "metadata": {},
   "outputs": [],
   "source": []
  }
 ],
 "metadata": {
  "kernelspec": {
   "display_name": "Python 3 (ipykernel)",
   "language": "python",
   "name": "python3"
  },
  "language_info": {
   "codemirror_mode": {
    "name": "ipython",
    "version": 3
   },
   "file_extension": ".py",
   "mimetype": "text/x-python",
   "name": "python",
   "nbconvert_exporter": "python",
   "pygments_lexer": "ipython3",
   "version": "3.9.12"
  }
 },
 "nbformat": 4,
 "nbformat_minor": 5
}
